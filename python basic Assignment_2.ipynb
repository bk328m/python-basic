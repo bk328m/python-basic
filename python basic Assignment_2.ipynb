{
 "cells": [
  {
   "cell_type": "markdown",
   "id": "a3561255",
   "metadata": {},
   "source": [
    "# 1.What are the two values of the Boolean data type? How do you write them?"
   ]
  },
  {
   "cell_type": "markdown",
   "id": "9e7bcc68",
   "metadata": {},
   "source": [
    "Ans. True and False are the two values of the Boolean data type.We have to use capital T and F, with the rest of the word in lowercase."
   ]
  },
  {
   "cell_type": "markdown",
   "id": "93a0c6e9",
   "metadata": {},
   "source": [
    "# 2. What are the three different types of Boolean operators?"
   ]
  },
  {
   "cell_type": "markdown",
   "id": "bcf29ee8",
   "metadata": {},
   "source": [
    "Ans. and, or, and not are the three different types of Boolean operators."
   ]
  },
  {
   "cell_type": "markdown",
   "id": "cd891525",
   "metadata": {},
   "source": [
    "# 3. Make a list of each Boolean operator's truth tables (i.e. every possible combination of Boolean values for the operator and what it evaluate )."
   ]
  },
  {
   "cell_type": "markdown",
   "id": "13b0d777",
   "metadata": {},
   "source": [
    "Ans. The Truth table of each boolean operator's are as follows: "
   ]
  },
  {
   "cell_type": "markdown",
   "id": "4b9ee100",
   "metadata": {},
   "source": [
    "# Truth Table for and operator:"
   ]
  },
  {
   "cell_type": "markdown",
   "id": "52fa1e2f",
   "metadata": {},
   "source": [
    "True and True is True.\n",
    "\n",
    "True and False is False.\n",
    "\n",
    "False and True is False.\n",
    "\n",
    "False and False is False."
   ]
  },
  {
   "cell_type": "markdown",
   "id": "5343c68e",
   "metadata": {},
   "source": [
    "# Truth Table for or operator:"
   ]
  },
  {
   "cell_type": "markdown",
   "id": "30726b84",
   "metadata": {},
   "source": [
    "True or True is True.\n",
    "\n",
    "True or False is True.\n",
    "\n",
    "False or True is True.\n",
    "\n",
    "False or False is False."
   ]
  },
  {
   "cell_type": "markdown",
   "id": "480b69ca",
   "metadata": {},
   "source": [
    "# Truth Table for not operator:"
   ]
  },
  {
   "cell_type": "markdown",
   "id": "acc77c3a",
   "metadata": {},
   "source": [
    "not True is False.\n",
    "\n",
    "not False is True."
   ]
  },
  {
   "cell_type": "markdown",
   "id": "139c5523",
   "metadata": {},
   "source": [
    "# 4. What are the values of the following expressions?\n",
    "(5>4) and (3 == 5)\n",
    "\n",
    "not (5>4)\n",
    "\n",
    "(5>4) or (3 == 5)\n",
    "\n",
    "not ((5>4) or (3 == 5))\n",
    "\n",
    "(True and True) and (True == False)\n",
    "\n",
    "(not False) or (not True)\n"
   ]
  },
  {
   "cell_type": "code",
   "execution_count": 2,
   "id": "65e51464",
   "metadata": {},
   "outputs": [
    {
     "name": "stdout",
     "output_type": "stream",
     "text": [
      "False\n",
      "False\n",
      "True\n",
      "False\n",
      "False\n",
      "True\n"
     ]
    }
   ],
   "source": [
    "print((5>4)and(3==5)) #will return False\n",
    "print(not(5>4)) # will return False\n",
    "print((5>4)or(3==5)) #will return True\n",
    "print(not((5>4)or(3==5))) #will return False\n",
    "print((True and True)and(True==False)) #will return False\n",
    "print((not False)or(not True)) #will return True"
   ]
  },
  {
   "cell_type": "markdown",
   "id": "77775060",
   "metadata": {},
   "source": [
    "# 5. What are the six comparison operators?"
   ]
  },
  {
   "cell_type": "markdown",
   "id": "078fb24f",
   "metadata": {},
   "source": [
    "Ans. ==,<,>,!=,<= and >= are the six comparison operators."
   ]
  },
  {
   "cell_type": "markdown",
   "id": "35833dba",
   "metadata": {},
   "source": [
    "# 6. How do you tell the difference between the equal to and assignment operators? Describe a condition and when you would use one."
   ]
  },
  {
   "cell_type": "markdown",
   "id": "7c050f61",
   "metadata": {},
   "source": [
    "Ans. == is the equal to operator that compares two values and evaluates to a Boolean, while = is the assignment operator that stores a value in a variable."
   ]
  },
  {
   "cell_type": "code",
   "execution_count": 4,
   "id": "7459e40e",
   "metadata": {},
   "outputs": [],
   "source": [
    "a=5\n",
    "b=6 #eg of assignment operators"
   ]
  },
  {
   "cell_type": "code",
   "execution_count": 6,
   "id": "9f365308",
   "metadata": {},
   "outputs": [
    {
     "data": {
      "text/plain": [
       "bool"
      ]
     },
     "execution_count": 6,
     "metadata": {},
     "output_type": "execute_result"
    }
   ],
   "source": [
    "type(a==b) #eg of equal to operators"
   ]
  },
  {
   "cell_type": "markdown",
   "id": "0e9c1080",
   "metadata": {},
   "source": [
    "# 7. Identify the three blocks in this code:\n",
    "spam = 0\n",
    "\n",
    "if spam == 10:\n",
    "\n",
    "print('eggs')\n",
    "\n",
    "if spam>5:\n",
    "\n",
    "print('bacon')\n",
    "\n",
    "else:\n",
    "\n",
    "print('ham')\n",
    "\n",
    "print('spam')\n",
    "\n",
    "print('spam')"
   ]
  },
  {
   "cell_type": "code",
   "execution_count": 8,
   "id": "4e8bbdf1",
   "metadata": {},
   "outputs": [
    {
     "name": "stdout",
     "output_type": "stream",
     "text": [
      "spam\n"
     ]
    }
   ],
   "source": [
    "spam = 0\n",
    "\n",
    "if spam == 10:\n",
    "    print('eggs') #block 1\n",
    "    if spam>5:\n",
    "        print('bacon') #block 2\n",
    "    else:\n",
    "        print('ham') #block 3\n",
    "    print('spam')\n",
    "print('spam')"
   ]
  },
  {
   "cell_type": "markdown",
   "id": "c735973a",
   "metadata": {},
   "source": [
    "Ans. The three blocks are everything inside the if statement and the lines print('bacon') and print('ham')\n",
    "\n",
    "print('eggs')\n",
    "\n",
    "if spam > 5:\n",
    "\n",
    "    print('bacon')\n",
    "    \n",
    "else:\n",
    "\n",
    "    print('ham')\n",
    "    \n",
    "print('spam')"
   ]
  },
  {
   "cell_type": "markdown",
   "id": "7a7cc24b",
   "metadata": {},
   "source": [
    "# 8. Write code that prints Hello if 1 is stored in spam, prints Howdy if 2 is stored in spam, and prints Greetings! if anything else is stored in spam."
   ]
  },
  {
   "cell_type": "code",
   "execution_count": 9,
   "id": "cd723550",
   "metadata": {},
   "outputs": [
    {
     "name": "stdout",
     "output_type": "stream",
     "text": [
      "enter a number 3\n",
      "Greetings\n"
     ]
    }
   ],
   "source": [
    "spam=(int(input(\"enter a number \")))\n",
    "if spam==1:\n",
    "    print(\"Hello\")\n",
    "elif spam==2:\n",
    "    print(\"Howdy\")\n",
    "else:\n",
    "    print(\"Greetings\")"
   ]
  },
  {
   "cell_type": "markdown",
   "id": "69f2a051",
   "metadata": {},
   "source": [
    "# 9.If your programme is stuck in an endless loop, what keys you’ll press?"
   ]
  },
  {
   "cell_type": "markdown",
   "id": "c517c0a8",
   "metadata": {},
   "source": [
    "Ans. If a programme is stuck in an endless loop, then we will press ctrl+c in order to stop that infinite loop"
   ]
  },
  {
   "cell_type": "markdown",
   "id": "1b6102b1",
   "metadata": {},
   "source": [
    "# 10. How can you tell the difference between break and continue?"
   ]
  },
  {
   "cell_type": "markdown",
   "id": "df6b728b",
   "metadata": {},
   "source": [
    "Ans. The break statement will move the execution outside the loop if break condtion is satisfied. Whereas the continue statement will move the execution to the start of the loop"
   ]
  },
  {
   "cell_type": "markdown",
   "id": "a342f467",
   "metadata": {},
   "source": [
    "# 11. In a for loop, what is the difference between range(10), range(0, 10), and range(0, 10, 1)?"
   ]
  },
  {
   "cell_type": "markdown",
   "id": "358e5c41",
   "metadata": {},
   "source": [
    "Ans. Here range(10), range(0, 10), and range(0, 10, 1) all do the same thing.\n",
    "\n",
    "range(10) call ranges from 0 up to (but not including) 10\n",
    "\n",
    "range(0, 10) explicitly tells the loop to start at 0 up to (but not including) 10\n",
    "\n",
    "range(0, 10, 1) explicitly tells the loop to start at 0 up to (but not including) 10 and also to increase the variable by 1(step size) on each iteration."
   ]
  },
  {
   "cell_type": "markdown",
   "id": "ba24c5e3",
   "metadata": {},
   "source": [
    "# 12. Write a short program that prints the numbers 1 to 10 using a for loop. Then write an equivalent program that prints the numbers 1 to 10 using a while loop."
   ]
  },
  {
   "cell_type": "code",
   "execution_count": 13,
   "id": "6c308bda",
   "metadata": {},
   "outputs": [
    {
     "name": "stdout",
     "output_type": "stream",
     "text": [
      "1\n",
      "2\n",
      "3\n",
      "4\n",
      "5\n",
      "6\n",
      "7\n",
      "8\n",
      "9\n",
      "10\n"
     ]
    }
   ],
   "source": [
    "l=10\n",
    "for i in range(1,l+1):\n",
    "    print(i)"
   ]
  },
  {
   "cell_type": "code",
   "execution_count": 14,
   "id": "fe50d270",
   "metadata": {},
   "outputs": [
    {
     "name": "stdout",
     "output_type": "stream",
     "text": [
      "1\n",
      "2\n",
      "3\n",
      "4\n",
      "5\n",
      "6\n",
      "7\n",
      "8\n",
      "9\n",
      "10\n"
     ]
    }
   ],
   "source": [
    "l=10\n",
    "i=1\n",
    "while i<=l:\n",
    "    print(i)\n",
    "    i=i+1"
   ]
  },
  {
   "cell_type": "markdown",
   "id": "6b92e091",
   "metadata": {},
   "source": [
    "# 13. If you had a function named bacon() inside a module named spam, how would you call it after importing spam?"
   ]
  },
  {
   "cell_type": "markdown",
   "id": "ce62688e",
   "metadata": {},
   "source": [
    "Ans. I would call it with spam.bacon()"
   ]
  },
  {
   "cell_type": "code",
   "execution_count": null,
   "id": "50f2fd5e",
   "metadata": {},
   "outputs": [],
   "source": []
  }
 ],
 "metadata": {
  "kernelspec": {
   "display_name": "Python 3 (ipykernel)",
   "language": "python",
   "name": "python3"
  },
  "language_info": {
   "codemirror_mode": {
    "name": "ipython",
    "version": 3
   },
   "file_extension": ".py",
   "mimetype": "text/x-python",
   "name": "python",
   "nbconvert_exporter": "python",
   "pygments_lexer": "ipython3",
   "version": "3.9.7"
  }
 },
 "nbformat": 4,
 "nbformat_minor": 5
}
